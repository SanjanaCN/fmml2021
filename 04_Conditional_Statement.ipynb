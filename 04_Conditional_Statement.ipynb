{
  "nbformat": 4,
  "nbformat_minor": 0,
  "metadata": {
    "colab": {
      "name": "04_Conditional Statement.ipynb",
      "provenance": [],
      "include_colab_link": true
    },
    "kernelspec": {
      "name": "python3",
      "display_name": "Python 3"
    },
    "language_info": {
      "name": "python"
    }
  },
  "cells": [
    {
      "cell_type": "markdown",
      "metadata": {
        "id": "view-in-github",
        "colab_type": "text"
      },
      "source": [
        "<a href=\"https://colab.research.google.com/github/SanjanaCN/fmml2021/blob/main/04_Conditional_Statement.ipynb\" target=\"_parent\"><img src=\"https://colab.research.google.com/assets/colab-badge.svg\" alt=\"Open In Colab\"/></a>"
      ]
    },
    {
      "cell_type": "markdown",
      "metadata": {
        "id": "edX9c60K6OGY"
      },
      "source": [
        "#### Conditional Statements"
      ]
    },
    {
      "cell_type": "markdown",
      "metadata": {
        "id": "BOWsIrajqsvE"
      },
      "source": [
        "##### if - elif - else  (with indentation)\n",
        "```\n",
        "if condition1:\n",
        "   statement1\n",
        "   statement2\n",
        "   statement3\n",
        "elif condition2:\n",
        "   statement4\n",
        "   statement5\n",
        "   statement6\n",
        "else:\n",
        "   statement7\n",
        "   statement8\n",
        "```"
      ]
    },
    {
      "cell_type": "code",
      "metadata": {
        "id": "eDT9R8AOqnsz",
        "outputId": "d4026b1b-afe1-4aa4-909e-4f4c62e4c33c",
        "colab": {
          "base_uri": "https://localhost:8080/"
        }
      },
      "source": [
        "a = input(\"Enter an integer a: \")\n",
        "type(a)"
      ],
      "execution_count": 1,
      "outputs": [
        {
          "name": "stdout",
          "output_type": "stream",
          "text": [
            "Enter an integer a: 5\n"
          ]
        },
        {
          "output_type": "execute_result",
          "data": {
            "text/plain": [
              "str"
            ]
          },
          "metadata": {},
          "execution_count": 1
        }
      ]
    },
    {
      "cell_type": "code",
      "metadata": {
        "id": "gbOsmJaIqiIP",
        "outputId": "1ccc9874-9b3b-46c1-8a63-66f124e708bd",
        "colab": {
          "base_uri": "https://localhost:8080/"
        }
      },
      "source": [
        "a = int(a)\n",
        "type(a)"
      ],
      "execution_count": 2,
      "outputs": [
        {
          "output_type": "execute_result",
          "data": {
            "text/plain": [
              "int"
            ]
          },
          "metadata": {},
          "execution_count": 2
        }
      ]
    },
    {
      "cell_type": "code",
      "metadata": {
        "id": "8D8fTIoYqdGE",
        "outputId": "b3d16add-9f46-4363-c42e-3e81455418fd",
        "colab": {
          "base_uri": "https://localhost:8080/"
        }
      },
      "source": [
        "b = input(\"Enter an integer b: \")\n",
        "b = int(b)"
      ],
      "execution_count": 3,
      "outputs": [
        {
          "name": "stdout",
          "output_type": "stream",
          "text": [
            "Enter an integer b: 9\n"
          ]
        }
      ]
    },
    {
      "cell_type": "code",
      "metadata": {
        "id": "cehfXMvowN0S",
        "outputId": "f261aea4-5376-4a24-b71f-6ccbf89b9a0a",
        "colab": {
          "base_uri": "https://localhost:8080/"
        }
      },
      "source": [
        "if (a > b):\n",
        "  print (\"a is greater than b\")\n",
        "  print (\"and that's it\")\n",
        "elif (a < b):\n",
        "  print (\"a is less than b\")\n",
        "  print (\"which is clear\")\n",
        "else:\n",
        "  print (\"a is neither greater than b,  nor less than b\")"
      ],
      "execution_count": 4,
      "outputs": [
        {
          "output_type": "stream",
          "name": "stdout",
          "text": [
            "a is less than b\n",
            "which is clear\n"
          ]
        }
      ]
    },
    {
      "cell_type": "markdown",
      "metadata": {
        "id": "gRugJ6YQt57S"
      },
      "source": [
        "##### if (condition): statement (single line - without indentation)"
      ]
    },
    {
      "cell_type": "code",
      "metadata": {
        "id": "ZF-tcVscuADN",
        "outputId": "2d7000d9-add3-406f-b937-e4c986d0cedd",
        "colab": {
          "base_uri": "https://localhost:8080/"
        }
      },
      "source": [
        "a = input(\"Enter an integer a: \")\n",
        "a = int(a)\n",
        "b = input(\"Enter an integer b: \")\n",
        "b = int(b)"
      ],
      "execution_count": 5,
      "outputs": [
        {
          "name": "stdout",
          "output_type": "stream",
          "text": [
            "Enter an integer a: 4\n",
            "Enter an integer b: 3\n"
          ]
        }
      ]
    },
    {
      "cell_type": "code",
      "metadata": {
        "id": "N2E5veph8_9V",
        "outputId": "cdcc887a-12ec-49f4-a6b6-87b92519ad4d",
        "colab": {
          "base_uri": "https://localhost:8080/"
        }
      },
      "source": [
        "if (a < b): print (\"a is lesser than b\")"
      ],
      "execution_count": 9,
      "outputs": [
        {
          "output_type": "stream",
          "name": "stdout",
          "text": [
            "a is lesser than b\n"
          ]
        }
      ]
    },
    {
      "cell_type": "markdown",
      "metadata": {
        "id": "wtPeoXBWxBLa"
      },
      "source": [
        "##### if - else in a single line "
      ]
    },
    {
      "cell_type": "code",
      "metadata": {
        "id": "SwO5vZ8LxGMA",
        "outputId": "53a37f65-8a1f-4df0-a0a3-ca53a4447b72",
        "colab": {
          "base_uri": "https://localhost:8080/"
        }
      },
      "source": [
        "a = input(\"Enter an integer a: \")\n",
        "a = int(a)\n",
        "b = input(\"Enter an integer b: \")\n",
        "b = int(b)"
      ],
      "execution_count": 10,
      "outputs": [
        {
          "name": "stdout",
          "output_type": "stream",
          "text": [
            "Enter an integer a: 8\n",
            "Enter an integer b: 9\n"
          ]
        }
      ]
    },
    {
      "cell_type": "code",
      "metadata": {
        "id": "-SLed6y6xJoq",
        "outputId": "c090881a-940e-43b6-8697-fd1efcd1065b",
        "colab": {
          "base_uri": "https://localhost:8080/"
        }
      },
      "source": [
        "print (\"a is less than b\") if (a < b) else print (\"a - {} is not less than b - {}.\".format(a, b))"
      ],
      "execution_count": 11,
      "outputs": [
        {
          "output_type": "stream",
          "name": "stdout",
          "text": [
            "a is less than b\n"
          ]
        }
      ]
    },
    {
      "cell_type": "markdown",
      "metadata": {
        "id": "a-ggfGcOvFjz"
      },
      "source": [
        "##### if-else with three conditions"
      ]
    },
    {
      "cell_type": "code",
      "metadata": {
        "id": "JHGOgFs-vWbq",
        "outputId": "385c2257-3f92-49eb-cb68-0d812654da1a",
        "colab": {
          "base_uri": "https://localhost:8080/"
        }
      },
      "source": [
        "a = input(\"Enter first string: \")\n",
        "b = input (\"Enter second string: \")"
      ],
      "execution_count": 12,
      "outputs": [
        {
          "name": "stdout",
          "output_type": "stream",
          "text": [
            "Enter first string: aa\n",
            "Enter second string: 9\n"
          ]
        }
      ]
    },
    {
      "cell_type": "code",
      "metadata": {
        "id": "qgqqBPjAvLQx",
        "outputId": "b840e154-f1c6-4ca1-fdaa-6935f535dbd8",
        "colab": {
          "base_uri": "https://localhost:8080/"
        }
      },
      "source": [
        "print (\"first string comes earlier\") if (a<b) else print (\"second string comes earlier\") if (b<a) else print (\"both strings are same\")  "
      ],
      "execution_count": 13,
      "outputs": [
        {
          "output_type": "stream",
          "name": "stdout",
          "text": [
            "second string comes earlier\n"
          ]
        }
      ]
    },
    {
      "cell_type": "markdown",
      "metadata": {
        "id": "VdwpRcZ82I5N"
      },
      "source": [
        "##### **Exercise**: Write a program to check whether a character read from keyboard is a vowel or consonant"
      ]
    },
    {
      "cell_type": "code",
      "metadata": {
        "id": "b_QjChOW2VJY",
        "outputId": "f90ee267-45df-4c89-ab68-412bc78f3071",
        "colab": {
          "base_uri": "https://localhost:8080/"
        }
      },
      "source": [
        "# Your program should come here\n",
        "vowel_list = ['a','e','i','o','u']\n",
        "character = input(\"enter the character: \")\n",
        "if character in vowel_list: \n",
        "    print(\"it is a vowel\")\n",
        "else:\n",
        "    print(\"it is a consonant\")\n",
        "\n"
      ],
      "execution_count": 34,
      "outputs": [
        {
          "output_type": "stream",
          "name": "stdout",
          "text": [
            "enter the character: u\n",
            "it is a vowel\n"
          ]
        }
      ]
    },
    {
      "cell_type": "markdown",
      "metadata": {
        "id": "a9AsLgbcVfwx"
      },
      "source": [
        "Reference: [Official Python Documentation](https://docs.python.org/3/tutorial/controlflow.html)"
      ]
    },
    {
      "cell_type": "code",
      "metadata": {
        "id": "WYRfND1Lhg8N"
      },
      "source": [
        ""
      ],
      "execution_count": null,
      "outputs": []
    }
  ]
}