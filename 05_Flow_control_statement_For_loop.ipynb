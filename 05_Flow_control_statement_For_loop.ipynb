{
  "nbformat": 4,
  "nbformat_minor": 0,
  "metadata": {
    "colab": {
      "name": "05_Flow_control_statement_For_loop.ipynb",
      "provenance": [],
      "include_colab_link": true
    },
    "kernelspec": {
      "name": "python3",
      "display_name": "Python 3"
    },
    "language_info": {
      "name": "python"
    }
  },
  "cells": [
    {
      "cell_type": "markdown",
      "metadata": {
        "id": "view-in-github",
        "colab_type": "text"
      },
      "source": [
        "<a href=\"https://colab.research.google.com/github/SanjanaCN/fmml2021/blob/main/05_Flow_control_statement_For_loop.ipynb\" target=\"_parent\"><img src=\"https://colab.research.google.com/assets/colab-badge.svg\" alt=\"Open In Colab\"/></a>"
      ]
    },
    {
      "cell_type": "markdown",
      "metadata": {
        "id": "61f388Jksnz-"
      },
      "source": [
        "### Flow control using for-loop\n",
        "#### 'For' statement is used for iterating over an arithmetic progression of numbers"
      ]
    },
    {
      "cell_type": "code",
      "metadata": {
        "id": "OGNhu14poWXa",
        "outputId": "75f274e4-04d3-45d1-e3ae-725473717ffb",
        "colab": {
          "base_uri": "https://localhost:8080/"
        }
      },
      "source": [
        "for i in range(9):\n",
        "  print (i, end=\" \")"
      ],
      "execution_count": 1,
      "outputs": [
        {
          "output_type": "stream",
          "name": "stdout",
          "text": [
            "0 1 2 3 4 5 6 7 8 "
          ]
        }
      ]
    },
    {
      "cell_type": "code",
      "metadata": {
        "id": "FhlaUKV5oeqh",
        "outputId": "37c6afaf-71db-4518-cb15-c50e3fa1bb3c",
        "colab": {
          "base_uri": "https://localhost:8080/"
        }
      },
      "source": [
        "for i in range(9, 19): # from 9 till 18\n",
        "  print (i, end=\" \")"
      ],
      "execution_count": 2,
      "outputs": [
        {
          "output_type": "stream",
          "name": "stdout",
          "text": [
            "9 10 11 12 13 14 15 16 17 18 "
          ]
        }
      ]
    },
    {
      "cell_type": "code",
      "metadata": {
        "id": "lHexb1UAseK6",
        "outputId": "f95c1ced-6510-4424-bd3c-152f58f2ca03",
        "colab": {
          "base_uri": "https://localhost:8080/"
        }
      },
      "source": [
        "# range\n",
        "for i in range(9, 19, 3): # steps of 3\n",
        "  print (i, end=\" \")"
      ],
      "execution_count": 3,
      "outputs": [
        {
          "output_type": "stream",
          "name": "stdout",
          "text": [
            "9 12 15 18 "
          ]
        }
      ]
    },
    {
      "cell_type": "markdown",
      "metadata": {
        "id": "avgXS5ante_t"
      },
      "source": [
        "#### 'For' statement is also used for iterating over the items of any sequence (a list or a string), in the order that they appear in the sequence."
      ]
    },
    {
      "cell_type": "code",
      "metadata": {
        "id": "8YRJCPP2vVPe",
        "outputId": "f6dbae07-0dff-4f35-badf-8894a41b4048",
        "colab": {
          "base_uri": "https://localhost:8080/"
        }
      },
      "source": [
        "# list\n",
        "my_list = [1, 2, 3, 4]\n",
        "for each_item in my_list:\n",
        "  print (each_item, end=\" \")"
      ],
      "execution_count": 4,
      "outputs": [
        {
          "output_type": "stream",
          "name": "stdout",
          "text": [
            "1 2 3 4 "
          ]
        }
      ]
    },
    {
      "cell_type": "code",
      "metadata": {
        "id": "EIPO-Aab0fMk"
      },
      "source": [
        "my_list = ['a', 'e', 'i', 'o', 'u']\n"
      ],
      "execution_count": 5,
      "outputs": []
    },
    {
      "cell_type": "code",
      "metadata": {
        "id": "lWRcH-oE0nr6",
        "outputId": "9d164279-5f49-4cf1-f1a2-a72b40b30154",
        "colab": {
          "base_uri": "https://localhost:8080/"
        }
      },
      "source": [
        "test_char = input(\"Enter Character: \")"
      ],
      "execution_count": 6,
      "outputs": [
        {
          "name": "stdout",
          "output_type": "stream",
          "text": [
            "Enter Character: t\n"
          ]
        }
      ]
    },
    {
      "cell_type": "code",
      "metadata": {
        "id": "29kLJv6-0xfe"
      },
      "source": [
        "test_result = 'consonant'\n",
        "for each_char in my_list:\n",
        "  if (each_char == test_char.lower()): # to check both capitals and smaller\n",
        "    test_result = 'vowel'\n",
        "    break"
      ],
      "execution_count": 10,
      "outputs": []
    },
    {
      "cell_type": "code",
      "metadata": {
        "id": "FXsvQh-C1C-m",
        "outputId": "523a5113-5a2c-4e58-b1bf-fb4f58a71f58",
        "colab": {
          "base_uri": "https://localhost:8080/"
        }
      },
      "source": [
        "print (test_result)"
      ],
      "execution_count": 11,
      "outputs": [
        {
          "output_type": "stream",
          "name": "stdout",
          "text": [
            "consonant\n"
          ]
        }
      ]
    },
    {
      "cell_type": "code",
      "metadata": {
        "id": "bStyS27cudqK"
      },
      "source": [
        "# list comprehension\n",
        "# create a list of all odd numbers from 1 to 20\n",
        "my_list = [number for number in range(1,20,2)]"
      ],
      "execution_count": 12,
      "outputs": []
    },
    {
      "cell_type": "code",
      "metadata": {
        "id": "IbKt_IhW6Z4z",
        "outputId": "f2628336-bcad-4e10-f262-6a7013f3fcea",
        "colab": {
          "base_uri": "https://localhost:8080/"
        }
      },
      "source": [
        "my_list"
      ],
      "execution_count": 13,
      "outputs": [
        {
          "output_type": "execute_result",
          "data": {
            "text/plain": [
              "[1, 3, 5, 7, 9, 11, 13, 15, 17, 19]"
            ]
          },
          "metadata": {},
          "execution_count": 13
        }
      ]
    },
    {
      "cell_type": "code",
      "metadata": {
        "id": "1G1IBIr6p6b6"
      },
      "source": [
        "# list comprehension - another approach using \"if\" condition\n",
        "# create a list of all odd numbers from 1 to 20\n",
        "my_list = [number for number in range(1,20) if (number % 2 == 1)]"
      ],
      "execution_count": 14,
      "outputs": []
    },
    {
      "cell_type": "code",
      "metadata": {
        "id": "ahswgAU_qBVR",
        "outputId": "e7858afd-2c8d-40ff-b1bc-3eaee33c5480",
        "colab": {
          "base_uri": "https://localhost:8080/"
        }
      },
      "source": [
        "my_list"
      ],
      "execution_count": 15,
      "outputs": [
        {
          "output_type": "execute_result",
          "data": {
            "text/plain": [
              "[1, 3, 5, 7, 9, 11, 13, 15, 17, 19]"
            ]
          },
          "metadata": {},
          "execution_count": 15
        }
      ]
    },
    {
      "cell_type": "markdown",
      "metadata": {
        "id": "aZLHbgPMujrA"
      },
      "source": [
        "#### Exercise: Given a list of integers, write a for-loop to create a list of its squares."
      ]
    },
    {
      "cell_type": "code",
      "metadata": {
        "id": "2Kw7G5iCumaY",
        "outputId": "05e29ef8-ab74-4744-af48-d7a4b5121781",
        "colab": {
          "base_uri": "https://localhost:8080/"
        }
      },
      "source": [
        "# for instance if input list is [1, 2, 3, 4],  you need to create a list [1, 4, 9, 16]\n",
        "old_list= [1,2,3,4]\n",
        "new_list = [i*i for i in old_list]\n",
        "print(new_list)"
      ],
      "execution_count": 21,
      "outputs": [
        {
          "output_type": "stream",
          "name": "stdout",
          "text": [
            "[1, 4, 9, 16]\n"
          ]
        }
      ]
    },
    {
      "cell_type": "markdown",
      "metadata": {
        "id": "vqYJMprj-beV"
      },
      "source": [
        "Reference:\n",
        "[Python Documentation on Control Statements](https://docs.python.org/3/tutorial/controlflow.html)"
      ]
    }
  ]
}