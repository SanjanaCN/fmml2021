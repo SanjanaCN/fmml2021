{
  "nbformat": 4,
  "nbformat_minor": 0,
  "metadata": {
    "colab": {
      "name": "10_Problem_Solution.ipynb",
      "provenance": [],
      "include_colab_link": true
    },
    "kernelspec": {
      "name": "python3",
      "display_name": "Python 3"
    },
    "language_info": {
      "name": "python"
    }
  },
  "cells": [
    {
      "cell_type": "markdown",
      "metadata": {
        "id": "view-in-github",
        "colab_type": "text"
      },
      "source": [
        "<a href=\"https://colab.research.google.com/github/SanjanaCN/fmml2021/blob/main/10_Problem_Solution.ipynb\" target=\"_parent\"><img src=\"https://colab.research.google.com/assets/colab-badge.svg\" alt=\"Open In Colab\"/></a>"
      ]
    },
    {
      "cell_type": "code",
      "metadata": {
        "id": "4tHdnVmZSQIR"
      },
      "source": [
        "# Madagascar problem"
      ],
      "execution_count": null,
      "outputs": []
    },
    {
      "cell_type": "code",
      "metadata": {
        "id": "KkTnYRbjSZ4g"
      },
      "source": [
        "import numpy as np"
      ],
      "execution_count": 1,
      "outputs": []
    },
    {
      "cell_type": "code",
      "metadata": {
        "id": "vbsZHOPVSbYh"
      },
      "source": [
        "A = np.array([[20, 122, 20], [35,180, 35],[50, 220, 65], [70, 300, 30]])\n",
        "x = np.array([[0.05], [0.002], [0.02]])"
      ],
      "execution_count": 2,
      "outputs": []
    },
    {
      "cell_type": "code",
      "metadata": {
        "id": "4CvxUBB8U0PA"
      },
      "source": [
        "# 4x3 . 3x1 = 4x1"
      ],
      "execution_count": null,
      "outputs": []
    },
    {
      "cell_type": "code",
      "metadata": {
        "id": "PSJBzTZzSdzT"
      },
      "source": [
        "y = np.matmul(A,x) "
      ],
      "execution_count": 3,
      "outputs": []
    },
    {
      "cell_type": "code",
      "metadata": {
        "id": "ymQIKDd1dWFh",
        "outputId": "c0604fb2-ab00-4e3e-9b75-cee8f5e928c5",
        "colab": {
          "base_uri": "https://localhost:8080/"
        }
      },
      "source": [
        "y"
      ],
      "execution_count": 4,
      "outputs": [
        {
          "output_type": "execute_result",
          "data": {
            "text/plain": [
              "array([[1.644],\n",
              "       [2.81 ],\n",
              "       [4.24 ],\n",
              "       [4.7  ]])"
            ]
          },
          "metadata": {},
          "execution_count": 4
        }
      ]
    },
    {
      "cell_type": "code",
      "metadata": {
        "id": "ViFCMoyBdaE3"
      },
      "source": [
        "# we have to check those which are greater than 4, here we are doing a scalar subtraction\n",
        "y = np.matmul(A,x) -4.0"
      ],
      "execution_count": 7,
      "outputs": []
    },
    {
      "cell_type": "code",
      "metadata": {
        "id": "OKvPdSeUdoF2",
        "outputId": "595fd438-b904-4bb5-8b67-e1c54a8bb2a9",
        "colab": {
          "base_uri": "https://localhost:8080/"
        }
      },
      "source": [
        "y # values which are greater than zero should be considered"
      ],
      "execution_count": 6,
      "outputs": [
        {
          "output_type": "execute_result",
          "data": {
            "text/plain": [
              "array([[-2.356],\n",
              "       [-1.19 ],\n",
              "       [ 0.24 ],\n",
              "       [ 0.7  ]])"
            ]
          },
          "metadata": {},
          "execution_count": 6
        }
      ]
    },
    {
      "cell_type": "code",
      "metadata": {
        "id": "Um0CIsH1VJPi"
      },
      "source": [
        "Z = np.hstack((A,y))"
      ],
      "execution_count": 8,
      "outputs": []
    },
    {
      "cell_type": "code",
      "metadata": {
        "id": "Oryf-5goVTxG",
        "outputId": "d200f3b7-4a27-41ca-feed-489673f0ef89",
        "colab": {
          "base_uri": "https://localhost:8080/"
        }
      },
      "source": [
        "Z"
      ],
      "execution_count": 9,
      "outputs": [
        {
          "output_type": "execute_result",
          "data": {
            "text/plain": [
              "array([[ 2.000e+01,  1.220e+02,  2.000e+01, -2.356e+00],\n",
              "       [ 3.500e+01,  1.800e+02,  3.500e+01, -1.190e+00],\n",
              "       [ 5.000e+01,  2.200e+02,  6.500e+01,  2.400e-01],\n",
              "       [ 7.000e+01,  3.000e+02,  3.000e+01,  7.000e-01]])"
            ]
          },
          "metadata": {},
          "execution_count": 9
        }
      ]
    },
    {
      "cell_type": "code",
      "metadata": {
        "id": "vQt6XMT8ViYW"
      },
      "source": [
        "def RankArray(A,x):\n",
        "  y = np.dot(A,x) - 4.0\n",
        "  L = np.hstack((A,y))\n",
        "  return L"
      ],
      "execution_count": 10,
      "outputs": []
    },
    {
      "cell_type": "code",
      "metadata": {
        "id": "6VqMLbRWVwL3",
        "outputId": "97fc8ae6-e436-4a80-82bc-18c4379d5d6e",
        "colab": {
          "base_uri": "https://localhost:8080/"
        }
      },
      "source": [
        "print (RankArray(A,x)) # here at the extreme right, the values which are greater than zero are those who should be vaccinated first"
      ],
      "execution_count": 11,
      "outputs": [
        {
          "output_type": "stream",
          "name": "stdout",
          "text": [
            "[[ 2.000e+01  1.220e+02  2.000e+01 -2.356e+00]\n",
            " [ 3.500e+01  1.800e+02  3.500e+01 -1.190e+00]\n",
            " [ 5.000e+01  2.200e+02  6.500e+01  2.400e-01]\n",
            " [ 7.000e+01  3.000e+02  3.000e+01  7.000e-01]]\n"
          ]
        }
      ]
    }
  ]
}